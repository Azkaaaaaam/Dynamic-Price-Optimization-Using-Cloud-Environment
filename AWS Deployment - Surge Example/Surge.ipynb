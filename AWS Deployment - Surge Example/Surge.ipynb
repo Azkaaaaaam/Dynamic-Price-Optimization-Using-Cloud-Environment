{
 "cells": [
  {
   "cell_type": "code",
   "execution_count": 1,
   "id": "d47b9035",
   "metadata": {},
   "outputs": [
    {
     "name": "stdout",
     "output_type": "stream",
     "text": [
      "Looking in indexes: https://pypi.org/simple, https://pip.repos.neuron.amazonaws.com\n",
      "Requirement already satisfied: boto3 in /home/ec2-user/anaconda3/envs/python3/lib/python3.10/site-packages (1.26.71)\n",
      "Requirement already satisfied: botocore<1.30.0,>=1.29.71 in /home/ec2-user/anaconda3/envs/python3/lib/python3.10/site-packages (from boto3) (1.29.71)\n",
      "Requirement already satisfied: s3transfer<0.7.0,>=0.6.0 in /home/ec2-user/anaconda3/envs/python3/lib/python3.10/site-packages (from boto3) (0.6.0)\n",
      "Requirement already satisfied: jmespath<2.0.0,>=0.7.1 in /home/ec2-user/anaconda3/envs/python3/lib/python3.10/site-packages (from boto3) (1.0.1)\n",
      "Requirement already satisfied: python-dateutil<3.0.0,>=2.1 in /home/ec2-user/anaconda3/envs/python3/lib/python3.10/site-packages (from botocore<1.30.0,>=1.29.71->boto3) (2.8.2)\n",
      "Requirement already satisfied: urllib3<1.27,>=1.25.4 in /home/ec2-user/anaconda3/envs/python3/lib/python3.10/site-packages (from botocore<1.30.0,>=1.29.71->boto3) (1.26.8)\n",
      "Requirement already satisfied: six>=1.5 in /home/ec2-user/anaconda3/envs/python3/lib/python3.10/site-packages (from python-dateutil<3.0.0,>=2.1->botocore<1.30.0,>=1.29.71->boto3) (1.16.0)\n"
     ]
    }
   ],
   "source": [
    "!pip install boto3"
   ]
  },
  {
   "cell_type": "code",
   "execution_count": 2,
   "id": "0b6ca43b",
   "metadata": {},
   "outputs": [],
   "source": [
    "import boto3\n",
    "import pandas as pd\n",
    "\n",
    "# set up the S3 client\n",
    "s3 = boto3.client('s3')\n",
    "\n",
    "# specify the S3 bucket and file name\n",
    "bucket_name = 'datasetsthesis2'\n",
    "file_name = 'preprocessed_surge.csv'\n",
    "\n",
    "# read the file from S3 into a Pandas DataFrame\n",
    "obj = s3.get_object(Bucket=bucket_name, Key=file_name)\n",
    "merged = pd.read_csv(obj['Body'])"
   ]
  },
  {
   "cell_type": "code",
   "execution_count": 3,
   "id": "010515eb",
   "metadata": {
    "scrolled": true
   },
   "outputs": [
    {
     "data": {
      "text/html": [
       "<div>\n",
       "<style scoped>\n",
       "    .dataframe tbody tr th:only-of-type {\n",
       "        vertical-align: middle;\n",
       "    }\n",
       "\n",
       "    .dataframe tbody tr th {\n",
       "        vertical-align: top;\n",
       "    }\n",
       "\n",
       "    .dataframe thead th {\n",
       "        text-align: right;\n",
       "    }\n",
       "</style>\n",
       "<table border=\"1\" class=\"dataframe\">\n",
       "  <thead>\n",
       "    <tr style=\"text-align: right;\">\n",
       "      <th></th>\n",
       "      <th>Day</th>\n",
       "      <th>Month</th>\n",
       "      <th>Hour</th>\n",
       "      <th>passenger_count</th>\n",
       "      <th>trip_distance</th>\n",
       "      <th>total_amount</th>\n",
       "      <th>temp</th>\n",
       "      <th>feelslike</th>\n",
       "      <th>snow</th>\n",
       "      <th>windspeed</th>\n",
       "      <th>cloudcover</th>\n",
       "      <th>duration</th>\n",
       "      <th>surge_multiplier</th>\n",
       "    </tr>\n",
       "  </thead>\n",
       "  <tbody>\n",
       "    <tr>\n",
       "      <th>0</th>\n",
       "      <td>1</td>\n",
       "      <td>1</td>\n",
       "      <td>0</td>\n",
       "      <td>1.495620</td>\n",
       "      <td>2.704969</td>\n",
       "      <td>15.959061</td>\n",
       "      <td>3.500000</td>\n",
       "      <td>0.500000</td>\n",
       "      <td>0.0</td>\n",
       "      <td>25.200000</td>\n",
       "      <td>37.900000</td>\n",
       "      <td>36.947059</td>\n",
       "      <td>1.25</td>\n",
       "    </tr>\n",
       "    <tr>\n",
       "      <th>1</th>\n",
       "      <td>1</td>\n",
       "      <td>1</td>\n",
       "      <td>1</td>\n",
       "      <td>1.567708</td>\n",
       "      <td>5.595313</td>\n",
       "      <td>24.376823</td>\n",
       "      <td>3.500000</td>\n",
       "      <td>0.500000</td>\n",
       "      <td>0.0</td>\n",
       "      <td>25.200000</td>\n",
       "      <td>37.900000</td>\n",
       "      <td>68.396875</td>\n",
       "      <td>1.00</td>\n",
       "    </tr>\n",
       "    <tr>\n",
       "      <th>2</th>\n",
       "      <td>1</td>\n",
       "      <td>1</td>\n",
       "      <td>2</td>\n",
       "      <td>1.305732</td>\n",
       "      <td>3.114076</td>\n",
       "      <td>18.019427</td>\n",
       "      <td>3.500000</td>\n",
       "      <td>0.500000</td>\n",
       "      <td>0.0</td>\n",
       "      <td>25.200000</td>\n",
       "      <td>37.900000</td>\n",
       "      <td>151.373355</td>\n",
       "      <td>1.00</td>\n",
       "    </tr>\n",
       "    <tr>\n",
       "      <th>3</th>\n",
       "      <td>1</td>\n",
       "      <td>1</td>\n",
       "      <td>3</td>\n",
       "      <td>1.566667</td>\n",
       "      <td>3.220810</td>\n",
       "      <td>17.525452</td>\n",
       "      <td>3.500000</td>\n",
       "      <td>0.500000</td>\n",
       "      <td>0.0</td>\n",
       "      <td>25.200000</td>\n",
       "      <td>37.900000</td>\n",
       "      <td>211.571984</td>\n",
       "      <td>1.25</td>\n",
       "    </tr>\n",
       "    <tr>\n",
       "      <th>4</th>\n",
       "      <td>1</td>\n",
       "      <td>1</td>\n",
       "      <td>4</td>\n",
       "      <td>1.542308</td>\n",
       "      <td>3.626808</td>\n",
       "      <td>18.821538</td>\n",
       "      <td>3.500000</td>\n",
       "      <td>0.500000</td>\n",
       "      <td>0.0</td>\n",
       "      <td>25.200000</td>\n",
       "      <td>37.900000</td>\n",
       "      <td>267.962692</td>\n",
       "      <td>1.00</td>\n",
       "    </tr>\n",
       "    <tr>\n",
       "      <th>...</th>\n",
       "      <td>...</td>\n",
       "      <td>...</td>\n",
       "      <td>...</td>\n",
       "      <td>...</td>\n",
       "      <td>...</td>\n",
       "      <td>...</td>\n",
       "      <td>...</td>\n",
       "      <td>...</td>\n",
       "      <td>...</td>\n",
       "      <td>...</td>\n",
       "      <td>...</td>\n",
       "      <td>...</td>\n",
       "      <td>...</td>\n",
       "    </tr>\n",
       "    <tr>\n",
       "      <th>3256</th>\n",
       "      <td>31</td>\n",
       "      <td>3</td>\n",
       "      <td>19</td>\n",
       "      <td>1.333141</td>\n",
       "      <td>2.348576</td>\n",
       "      <td>16.367994</td>\n",
       "      <td>13.298386</td>\n",
       "      <td>13.297983</td>\n",
       "      <td>0.0</td>\n",
       "      <td>15.008069</td>\n",
       "      <td>69.360231</td>\n",
       "      <td>1170.938943</td>\n",
       "      <td>1.75</td>\n",
       "    </tr>\n",
       "    <tr>\n",
       "      <th>3257</th>\n",
       "      <td>31</td>\n",
       "      <td>3</td>\n",
       "      <td>20</td>\n",
       "      <td>1.325161</td>\n",
       "      <td>3.512310</td>\n",
       "      <td>18.635200</td>\n",
       "      <td>13.292774</td>\n",
       "      <td>13.290968</td>\n",
       "      <td>0.0</td>\n",
       "      <td>15.036129</td>\n",
       "      <td>69.221935</td>\n",
       "      <td>1229.775785</td>\n",
       "      <td>1.25</td>\n",
       "    </tr>\n",
       "    <tr>\n",
       "      <th>3258</th>\n",
       "      <td>31</td>\n",
       "      <td>3</td>\n",
       "      <td>21</td>\n",
       "      <td>1.379863</td>\n",
       "      <td>3.260870</td>\n",
       "      <td>18.066018</td>\n",
       "      <td>13.287185</td>\n",
       "      <td>13.283982</td>\n",
       "      <td>0.0</td>\n",
       "      <td>15.064073</td>\n",
       "      <td>69.084211</td>\n",
       "      <td>1294.837262</td>\n",
       "      <td>1.25</td>\n",
       "    </tr>\n",
       "    <tr>\n",
       "      <th>3259</th>\n",
       "      <td>31</td>\n",
       "      <td>3</td>\n",
       "      <td>22</td>\n",
       "      <td>1.438695</td>\n",
       "      <td>3.140484</td>\n",
       "      <td>17.483836</td>\n",
       "      <td>13.293701</td>\n",
       "      <td>13.292126</td>\n",
       "      <td>0.0</td>\n",
       "      <td>15.031496</td>\n",
       "      <td>69.244769</td>\n",
       "      <td>1355.028965</td>\n",
       "      <td>1.25</td>\n",
       "    </tr>\n",
       "    <tr>\n",
       "      <th>3260</th>\n",
       "      <td>31</td>\n",
       "      <td>3</td>\n",
       "      <td>23</td>\n",
       "      <td>1.381215</td>\n",
       "      <td>7.148729</td>\n",
       "      <td>29.946851</td>\n",
       "      <td>13.300000</td>\n",
       "      <td>13.300000</td>\n",
       "      <td>0.0</td>\n",
       "      <td>15.000000</td>\n",
       "      <td>69.400000</td>\n",
       "      <td>1389.255249</td>\n",
       "      <td>1.00</td>\n",
       "    </tr>\n",
       "  </tbody>\n",
       "</table>\n",
       "<p>3261 rows × 13 columns</p>\n",
       "</div>"
      ],
      "text/plain": [
       "      Day  Month  Hour  passenger_count  trip_distance  total_amount  \\\n",
       "0       1      1     0         1.495620       2.704969     15.959061   \n",
       "1       1      1     1         1.567708       5.595313     24.376823   \n",
       "2       1      1     2         1.305732       3.114076     18.019427   \n",
       "3       1      1     3         1.566667       3.220810     17.525452   \n",
       "4       1      1     4         1.542308       3.626808     18.821538   \n",
       "...   ...    ...   ...              ...            ...           ...   \n",
       "3256   31      3    19         1.333141       2.348576     16.367994   \n",
       "3257   31      3    20         1.325161       3.512310     18.635200   \n",
       "3258   31      3    21         1.379863       3.260870     18.066018   \n",
       "3259   31      3    22         1.438695       3.140484     17.483836   \n",
       "3260   31      3    23         1.381215       7.148729     29.946851   \n",
       "\n",
       "           temp  feelslike  snow  windspeed  cloudcover     duration  \\\n",
       "0      3.500000   0.500000   0.0  25.200000   37.900000    36.947059   \n",
       "1      3.500000   0.500000   0.0  25.200000   37.900000    68.396875   \n",
       "2      3.500000   0.500000   0.0  25.200000   37.900000   151.373355   \n",
       "3      3.500000   0.500000   0.0  25.200000   37.900000   211.571984   \n",
       "4      3.500000   0.500000   0.0  25.200000   37.900000   267.962692   \n",
       "...         ...        ...   ...        ...         ...          ...   \n",
       "3256  13.298386  13.297983   0.0  15.008069   69.360231  1170.938943   \n",
       "3257  13.292774  13.290968   0.0  15.036129   69.221935  1229.775785   \n",
       "3258  13.287185  13.283982   0.0  15.064073   69.084211  1294.837262   \n",
       "3259  13.293701  13.292126   0.0  15.031496   69.244769  1355.028965   \n",
       "3260  13.300000  13.300000   0.0  15.000000   69.400000  1389.255249   \n",
       "\n",
       "      surge_multiplier  \n",
       "0                 1.25  \n",
       "1                 1.00  \n",
       "2                 1.00  \n",
       "3                 1.25  \n",
       "4                 1.00  \n",
       "...                ...  \n",
       "3256              1.75  \n",
       "3257              1.25  \n",
       "3258              1.25  \n",
       "3259              1.25  \n",
       "3260              1.00  \n",
       "\n",
       "[3261 rows x 13 columns]"
      ]
     },
     "execution_count": 3,
     "metadata": {},
     "output_type": "execute_result"
    }
   ],
   "source": [
    "merged"
   ]
  },
  {
   "cell_type": "code",
   "execution_count": 4,
   "id": "aac25b72",
   "metadata": {},
   "outputs": [],
   "source": [
    "X = merged.drop([\"surge_multiplier\"], axis=1)\n",
    "y = merged[\"surge_multiplier\"]"
   ]
  },
  {
   "cell_type": "code",
   "execution_count": 5,
   "id": "5b8cacfa",
   "metadata": {},
   "outputs": [],
   "source": [
    "from sklearn.model_selection import train_test_split\n",
    "X_train, X_test, y_train, y_test = train_test_split(merged.drop(\"surge_multiplier\", axis=1), merged[\"surge_multiplier\"], test_size=0.2)"
   ]
  },
  {
   "cell_type": "code",
   "execution_count": 6,
   "id": "6b5e5883",
   "metadata": {},
   "outputs": [
    {
     "name": "stdout",
     "output_type": "stream",
     "text": [
      "['Day', 'Month', 'Hour', 'passenger_count', 'trip_distance', 'total_amount', 'temp', 'feelslike', 'snow', 'windspeed', 'cloudcover', 'duration', 'surge_multiplier']\n"
     ]
    }
   ],
   "source": [
    "# Get all the attributes (columns) from the \"merged\" dataframe\n",
    "attributes = merged.columns.tolist()\n",
    "\n",
    "# Print the list of attributes\n",
    "print(attributes)"
   ]
  },
  {
   "cell_type": "code",
   "execution_count": 7,
   "id": "03e5a463",
   "metadata": {},
   "outputs": [],
   "source": [
    "trainX = pd.DataFrame(X_train, columns=attributes)\n",
    "trainX['target'] = y_train\n",
    "\n",
    "testX = pd.DataFrame(X_test, columns=attributes)\n",
    "testX['target'] = y_test"
   ]
  },
  {
   "cell_type": "code",
   "execution_count": 8,
   "id": "981d254a",
   "metadata": {},
   "outputs": [],
   "source": [
    "trainX.to_csv('surge_train.csv')\n",
    "testX.to_csv('surge_test.csv')"
   ]
  },
  {
   "cell_type": "markdown",
   "id": "dba11a6c",
   "metadata": {},
   "source": [
    "# Data Ingestion"
   ]
  },
  {
   "cell_type": "code",
   "execution_count": 9,
   "id": "f9813700",
   "metadata": {},
   "outputs": [
    {
     "name": "stdout",
     "output_type": "stream",
     "text": [
      "Using bucket sagemaker-eu-north-1-378412049928\n"
     ]
    }
   ],
   "source": [
    "import datetime\n",
    "import tarfile\n",
    "\n",
    "import boto3 # AWS SDK for python. Provides low-level access to AWS services\n",
    "from sagemaker import get_execution_role\n",
    "import sagemaker\n",
    "\n",
    "m_boto3 = boto3.client('sagemaker') \n",
    "\n",
    "sess = sagemaker.Session()\n",
    "\n",
    "region = sess.boto_session.region_name\n",
    "\n",
    "bucket = sess.default_bucket()  #  Bucket is a logical unit of storage in AWS S3\n",
    "\n",
    "print('Using bucket ' + bucket)"
   ]
  },
  {
   "cell_type": "code",
   "execution_count": 10,
   "id": "bc303788",
   "metadata": {},
   "outputs": [],
   "source": [
    "# send data to S3. SageMaker will take training data from s3\n",
    "trainpath = sess.upload_data(\n",
    "    path='surge_train.csv', bucket=bucket,\n",
    "    key_prefix='sagemaker/sklearncontainer')\n",
    "\n",
    "testpath = sess.upload_data(\n",
    "    path='surge_test.csv', bucket=bucket,\n",
    "    key_prefix='sagemaker/sklearncontainer')"
   ]
  },
  {
   "cell_type": "markdown",
   "id": "531558a6",
   "metadata": {},
   "source": [
    "# Prepare a Scikit-learn Training Script"
   ]
  },
  {
   "cell_type": "code",
   "execution_count": 11,
   "id": "bd6959f8",
   "metadata": {},
   "outputs": [
    {
     "name": "stdout",
     "output_type": "stream",
     "text": [
      "Looking in indexes: https://pypi.org/simple, https://pip.repos.neuron.amazonaws.com\n",
      "Requirement already satisfied: scikit-learn in /home/ec2-user/anaconda3/envs/python3/lib/python3.10/site-packages (1.2.0)\n",
      "Collecting scikit-learn\n",
      "  Downloading scikit_learn-1.2.2-cp310-cp310-manylinux_2_17_x86_64.manylinux2014_x86_64.whl (9.6 MB)\n",
      "\u001b[2K     \u001b[90m━━━━━━━━━━━━━━━━━━━━━━━━━━━━━━━━━━━━━━━━\u001b[0m \u001b[32m9.6/9.6 MB\u001b[0m \u001b[31m24.1 MB/s\u001b[0m eta \u001b[36m0:00:00\u001b[0m00:01\u001b[0m00:01\u001b[0m\n",
      "\u001b[?25hRequirement already satisfied: threadpoolctl>=2.0.0 in /home/ec2-user/anaconda3/envs/python3/lib/python3.10/site-packages (from scikit-learn) (3.1.0)\n",
      "Requirement already satisfied: joblib>=1.1.1 in /home/ec2-user/anaconda3/envs/python3/lib/python3.10/site-packages (from scikit-learn) (1.2.0)\n",
      "Requirement already satisfied: scipy>=1.3.2 in /home/ec2-user/anaconda3/envs/python3/lib/python3.10/site-packages (from scikit-learn) (1.10.0)\n",
      "Requirement already satisfied: numpy>=1.17.3 in /home/ec2-user/anaconda3/envs/python3/lib/python3.10/site-packages (from scikit-learn) (1.22.3)\n",
      "Installing collected packages: scikit-learn\n",
      "  Attempting uninstall: scikit-learn\n",
      "    Found existing installation: scikit-learn 1.2.0\n",
      "    Uninstalling scikit-learn-1.2.0:\n",
      "      Successfully uninstalled scikit-learn-1.2.0\n",
      "Successfully installed scikit-learn-1.2.2\n",
      "Note: you may need to restart the kernel to use updated packages.\n"
     ]
    }
   ],
   "source": [
    "pip install --upgrade scikit-learn"
   ]
  },
  {
   "cell_type": "code",
   "execution_count": 12,
   "id": "43ceca8e",
   "metadata": {},
   "outputs": [
    {
     "name": "stdout",
     "output_type": "stream",
     "text": [
      "Looking in indexes: https://pypi.org/simple, https://pip.repos.neuron.amazonaws.com\n",
      "Requirement already satisfied: joblib in /home/ec2-user/anaconda3/envs/python3/lib/python3.10/site-packages (1.2.0)\n",
      "Note: you may need to restart the kernel to use updated packages.\n"
     ]
    }
   ],
   "source": [
    "pip install joblib"
   ]
  },
  {
   "cell_type": "code",
   "execution_count": 23,
   "id": "c28a7070",
   "metadata": {},
   "outputs": [
    {
     "name": "stdout",
     "output_type": "stream",
     "text": [
      "Overwriting script.py\n"
     ]
    }
   ],
   "source": [
    "%%writefile script.py\n",
    "\n",
    "import argparse\n",
    "import os\n",
    "import joblib\n",
    "import numpy as np\n",
    "import pandas as pd\n",
    "from sklearn.experimental import enable_hist_gradient_boosting\n",
    "from sklearn.ensemble import RandomForestRegressor, HistGradientBoostingRegressor\n",
    "from sklearn.impute import SimpleImputer\n",
    "from sklearn.metrics import explained_variance_score, r2_score\n",
    "from sklearn.pipeline import Pipeline\n",
    "from sklearn.compose import ColumnTransformer\n",
    "import pickle\n",
    "\n",
    "# inference functions ---------------\n",
    "def model_fn(model_dir):\n",
    "    with open(os.path.join(model_dir, 'model.pkl'), 'rb') as f:\n",
    "        clf = pickle.load(f)\n",
    "    return clf\n",
    "\n",
    "if __name__ == '__main__':\n",
    "    print('extracting arguments')\n",
    "    parser = argparse.ArgumentParser()\n",
    "\n",
    "    # hyperparameters sent by the client are passed as command-line arguments to the script.\n",
    "    # to simplify the demo we don't use all sklearn RandomForest hyperparameters\n",
    "    parser.add_argument('--n-estimators', type=int, default=100)\n",
    "    parser.add_argument('--max_leaf_nodes', type=int, default=10)\n",
    "\n",
    "    # Data, model, and output directories\n",
    "    parser.add_argument('--model-dir', type=str, default=os.environ.get('SM_MODEL_DIR'))\n",
    "    parser.add_argument('--train', type=str, default=os.environ.get('SM_CHANNEL_TRAIN'))\n",
    "    parser.add_argument('--test', type=str, default=os.environ.get('SM_CHANNEL_TEST'))\n",
    "    parser.add_argument('--train-file', type=str, default='surge_train.csv')\n",
    "    parser.add_argument('--test-file', type=str, default='surge_test.csv')\n",
    "\n",
    "    args, _ = parser.parse_known_args()\n",
    "\n",
    "    print('reading data')\n",
    "    train_df = pd.read_csv(os.path.join(args.train, args.train_file))\n",
    "    test_df = pd.read_csv(os.path.join(args.test, args.test_file))\n",
    "    #train_df = pd.read_csv('surge_train.csv')\n",
    "    #test_df = pd.read_csv('surge_test.csv')\n",
    "    \n",
    "    print('building training and testing datasets')\n",
    "   # numeric_transformer = Pipeline(steps=[('imputer', SimpleImputer(strategy='median'))])\n",
    "    #preprocessor = ColumnTransformer(transformers=[('num', numeric_transformer, train_df.columns.tolist())])\n",
    "    attributes = ['Day', 'Month', 'Hour', 'passenger_count', 'trip_distance', 'total_amount', 'temp', 'feelslike', 'snow', 'windspeed', 'cloudcover', 'duration']\n",
    "\n",
    "    X_train =train_df[attributes]\n",
    "    X_test = test_df[attributes]\n",
    "    y_train = train_df['target']\n",
    "    y_test = test_df['target']\n",
    "\n",
    "    # train\n",
    "    print('training model')\n",
    "    model = RandomForestRegressor()\n",
    "    model.fit(X_train, y_train)\n",
    "\n",
    "    # persist model\n",
    "    path = os.path.join(args.model_dir, \"model.pkl\")\n",
    "    with open(path, 'wb') as f:\n",
    "        pickle.dump(model, f)\n",
    "    print('model persisted at ' + path)\n",
    "\n",
    "    # print explained_variance_score\n",
    "    print('validating model')\n",
    "    predictions = model.predict(X_test)\n",
    "    print(\"R2 score : %.2f\" % r2_score(y_test, predictions))\n",
    "\n",
    "\n"
   ]
  },
  {
   "cell_type": "code",
   "execution_count": 24,
   "id": "92bd746c",
   "metadata": {
    "scrolled": true
   },
   "outputs": [
    {
     "name": "stdout",
     "output_type": "stream",
     "text": [
      "/home/ec2-user/anaconda3/envs/python3/lib/python3.10/site-packages/sklearn/experimental/enable_hist_gradient_boosting.py:16: UserWarning: Since version 1.0, it is not needed to import enable_hist_gradient_boosting anymore. HistGradientBoostingClassifier and HistGradientBoostingRegressor are now stable and can be normally imported from sklearn.ensemble.\n",
      "  warnings.warn(\n",
      "extracting arguments\n",
      "reading data\n",
      "building training and testing datasets\n",
      "training model\n",
      "model persisted at ./model.pkl\n",
      "validating model\n",
      "R2 score : 0.88\n"
     ]
    }
   ],
   "source": [
    "! python script.py --n-estimators 500 \\\n",
    "                   --max-leaf-nodes 16 \\\n",
    "                   --model-dir ./ \\\n",
    "                   --train ./ \\\n",
    "                   --test ./ \\"
   ]
  },
  {
   "cell_type": "code",
   "execution_count": 25,
   "id": "73fe5870",
   "metadata": {},
   "outputs": [
    {
     "name": "stdout",
     "output_type": "stream",
     "text": [
      "Looking in indexes: https://pypi.org/simple, https://pip.repos.neuron.amazonaws.com\n",
      "Requirement already satisfied: sagemaker in /home/ec2-user/anaconda3/envs/python3/lib/python3.10/site-packages (2.132.0)\n",
      "Collecting sagemaker\n",
      "  Downloading sagemaker-2.145.0.tar.gz (714 kB)\n",
      "\u001b[2K     \u001b[90m━━━━━━━━━━━━━━━━━━━━━━━━━━━━━━━━━━━━━━━\u001b[0m \u001b[32m714.1/714.1 kB\u001b[0m \u001b[31m7.7 MB/s\u001b[0m eta \u001b[36m0:00:00\u001b[0m00:01\u001b[0m00:01\u001b[0m\n",
      "\u001b[?25h  Preparing metadata (setup.py) ... \u001b[?25ldone\n",
      "\u001b[?25hRequirement already satisfied: attrs<23,>=20.3.0 in /home/ec2-user/anaconda3/envs/python3/lib/python3.10/site-packages (from sagemaker) (22.2.0)\n",
      "Requirement already satisfied: boto3<2.0,>=1.26.28 in /home/ec2-user/anaconda3/envs/python3/lib/python3.10/site-packages (from sagemaker) (1.26.71)\n",
      "Requirement already satisfied: google-pasta in /home/ec2-user/anaconda3/envs/python3/lib/python3.10/site-packages (from sagemaker) (0.2.0)\n",
      "Requirement already satisfied: numpy<2.0,>=1.9.0 in /home/ec2-user/anaconda3/envs/python3/lib/python3.10/site-packages (from sagemaker) (1.22.3)\n",
      "Requirement already satisfied: protobuf<4.0,>=3.1 in /home/ec2-user/anaconda3/envs/python3/lib/python3.10/site-packages (from sagemaker) (3.20.3)\n",
      "Requirement already satisfied: protobuf3-to-dict<1.0,>=0.1.5 in /home/ec2-user/anaconda3/envs/python3/lib/python3.10/site-packages (from sagemaker) (0.1.5)\n",
      "Requirement already satisfied: smdebug_rulesconfig==1.0.1 in /home/ec2-user/anaconda3/envs/python3/lib/python3.10/site-packages (from sagemaker) (1.0.1)\n",
      "Requirement already satisfied: importlib-metadata<5.0,>=1.4.0 in /home/ec2-user/anaconda3/envs/python3/lib/python3.10/site-packages (from sagemaker) (4.13.0)\n",
      "Requirement already satisfied: packaging>=20.0 in /home/ec2-user/anaconda3/envs/python3/lib/python3.10/site-packages (from sagemaker) (21.3)\n",
      "Requirement already satisfied: pandas in /home/ec2-user/anaconda3/envs/python3/lib/python3.10/site-packages (from sagemaker) (1.5.2)\n",
      "Requirement already satisfied: pathos in /home/ec2-user/anaconda3/envs/python3/lib/python3.10/site-packages (from sagemaker) (0.3.0)\n",
      "Requirement already satisfied: schema in /home/ec2-user/anaconda3/envs/python3/lib/python3.10/site-packages (from sagemaker) (0.7.5)\n",
      "Requirement already satisfied: PyYAML==5.4.1 in /home/ec2-user/anaconda3/envs/python3/lib/python3.10/site-packages (from sagemaker) (5.4.1)\n",
      "Requirement already satisfied: jsonschema in /home/ec2-user/anaconda3/envs/python3/lib/python3.10/site-packages (from sagemaker) (3.2.0)\n",
      "Requirement already satisfied: platformdirs in /home/ec2-user/anaconda3/envs/python3/lib/python3.10/site-packages (from sagemaker) (2.6.2)\n",
      "Requirement already satisfied: s3transfer<0.7.0,>=0.6.0 in /home/ec2-user/anaconda3/envs/python3/lib/python3.10/site-packages (from boto3<2.0,>=1.26.28->sagemaker) (0.6.0)\n",
      "Requirement already satisfied: jmespath<2.0.0,>=0.7.1 in /home/ec2-user/anaconda3/envs/python3/lib/python3.10/site-packages (from boto3<2.0,>=1.26.28->sagemaker) (1.0.1)\n",
      "Requirement already satisfied: botocore<1.30.0,>=1.29.71 in /home/ec2-user/anaconda3/envs/python3/lib/python3.10/site-packages (from boto3<2.0,>=1.26.28->sagemaker) (1.29.71)\n",
      "Requirement already satisfied: zipp>=0.5 in /home/ec2-user/anaconda3/envs/python3/lib/python3.10/site-packages (from importlib-metadata<5.0,>=1.4.0->sagemaker) (3.11.0)\n",
      "Requirement already satisfied: pyparsing!=3.0.5,>=2.0.2 in /home/ec2-user/anaconda3/envs/python3/lib/python3.10/site-packages (from packaging>=20.0->sagemaker) (3.0.9)\n",
      "Requirement already satisfied: six in /home/ec2-user/anaconda3/envs/python3/lib/python3.10/site-packages (from protobuf3-to-dict<1.0,>=0.1.5->sagemaker) (1.16.0)\n",
      "Requirement already satisfied: setuptools in /home/ec2-user/anaconda3/envs/python3/lib/python3.10/site-packages (from jsonschema->sagemaker) (65.6.3)\n",
      "Requirement already satisfied: pyrsistent>=0.14.0 in /home/ec2-user/anaconda3/envs/python3/lib/python3.10/site-packages (from jsonschema->sagemaker) (0.19.3)\n",
      "Requirement already satisfied: python-dateutil>=2.8.1 in /home/ec2-user/anaconda3/envs/python3/lib/python3.10/site-packages (from pandas->sagemaker) (2.8.2)\n",
      "Requirement already satisfied: pytz>=2020.1 in /home/ec2-user/anaconda3/envs/python3/lib/python3.10/site-packages (from pandas->sagemaker) (2022.7)\n",
      "Requirement already satisfied: multiprocess>=0.70.14 in /home/ec2-user/anaconda3/envs/python3/lib/python3.10/site-packages (from pathos->sagemaker) (0.70.14)\n",
      "Requirement already satisfied: dill>=0.3.6 in /home/ec2-user/anaconda3/envs/python3/lib/python3.10/site-packages (from pathos->sagemaker) (0.3.6)\n",
      "Requirement already satisfied: ppft>=1.7.6.6 in /home/ec2-user/anaconda3/envs/python3/lib/python3.10/site-packages (from pathos->sagemaker) (1.7.6.6)\n",
      "Requirement already satisfied: pox>=0.3.2 in /home/ec2-user/anaconda3/envs/python3/lib/python3.10/site-packages (from pathos->sagemaker) (0.3.2)\n",
      "Requirement already satisfied: contextlib2>=0.5.5 in /home/ec2-user/anaconda3/envs/python3/lib/python3.10/site-packages (from schema->sagemaker) (21.6.0)\n",
      "Requirement already satisfied: urllib3<1.27,>=1.25.4 in /home/ec2-user/anaconda3/envs/python3/lib/python3.10/site-packages (from botocore<1.30.0,>=1.29.71->boto3<2.0,>=1.26.28->sagemaker) (1.26.8)\n",
      "Building wheels for collected packages: sagemaker\n",
      "  Building wheel for sagemaker (setup.py) ... \u001b[?25ldone\n",
      "\u001b[?25h  Created wheel for sagemaker: filename=sagemaker-2.145.0-py2.py3-none-any.whl size=959452 sha256=8bb9eeb7b32f21f7a6dfbeb4a31623d776c932a730276b2e20fef8a3b86a9f2d\n",
      "  Stored in directory: /home/ec2-user/.cache/pip/wheels/49/f4/2c/48f91efe2535c9aad0fa36bc41c85dff48e722b67ca89771c0\n",
      "Successfully built sagemaker\n",
      "Installing collected packages: sagemaker\n",
      "  Attempting uninstall: sagemaker\n",
      "    Found existing installation: sagemaker 2.132.0\n",
      "    Uninstalling sagemaker-2.132.0:\n",
      "      Successfully uninstalled sagemaker-2.132.0\n",
      "Successfully installed sagemaker-2.145.0\n",
      "Note: you may need to restart the kernel to use updated packages.\n"
     ]
    }
   ],
   "source": [
    "pip install --upgrade sagemaker"
   ]
  },
  {
   "cell_type": "code",
   "execution_count": 28,
   "id": "3bd61f9b",
   "metadata": {
    "scrolled": true
   },
   "outputs": [],
   "source": [
    "from sagemaker.sklearn.estimator import SKLearn\n",
    "\n",
    "sklearn_estimator = SKLearn(\n",
    "    entry_point='script.py',\n",
    "    role=get_execution_role(),\n",
    "    instance_count=1,\n",
    "    instance_type='ml.c5.2xlarge',  # Updated instance type\n",
    "    framework_version='0.23-1',\n",
    "    base_job_name='rf-scikit',\n",
    "    hyperparameters={'n-estimators': 500,\n",
    "                     'max_leaf_nodes': 16})\n"
   ]
  },
  {
   "cell_type": "code",
   "execution_count": 29,
   "id": "41bfaccc",
   "metadata": {
    "scrolled": true
   },
   "outputs": [
    {
     "name": "stderr",
     "output_type": "stream",
     "text": [
      "INFO:sagemaker:Creating training-job with name: rf-scikit-2023-04-07-18-47-47-849\n"
     ]
    }
   ],
   "source": [
    "sklearn_estimator.fit({'train':trainpath, 'test': testpath}, wait=False)"
   ]
  },
  {
   "cell_type": "code",
   "execution_count": 30,
   "id": "9989ac4e",
   "metadata": {
    "scrolled": true
   },
   "outputs": [
    {
     "name": "stdout",
     "output_type": "stream",
     "text": [
      "\n",
      "2023-04-07 18:47:48 Starting - Starting the training job....\n",
      "2023-04-07 18:48:16 Starting - Preparing the instances for training........\n",
      "2023-04-07 18:49:03 Downloading - Downloading input data....\n",
      "2023-04-07 18:49:28 Training - Downloading the training image\n",
      "2023-04-07 18:49:34 Training - Training image download completed. Training in progress.....\n",
      "2023-04-07 18:49:54 Uploading - Uploading generated training model.\n",
      "2023-04-07 18:50:05 Completed - Training job completed\n",
      "Model artifact persisted at s3://sagemaker-eu-north-1-378412049928/rf-scikit-2023-04-07-18-47-47-849/output/model.tar.gz\n"
     ]
    }
   ],
   "source": [
    "sklearn_estimator.latest_training_job.wait(logs='None')\n",
    "artifact = m_boto3.describe_training_job(\n",
    "    TrainingJobName=sklearn_estimator.latest_training_job.name)['ModelArtifacts']['S3ModelArtifacts']\n",
    "\n",
    "print('Model artifact persisted at ' + artifact)"
   ]
  },
  {
   "cell_type": "code",
   "execution_count": 31,
   "id": "5d1ad171",
   "metadata": {},
   "outputs": [],
   "source": [
    "import boto3\n",
    "sm_client = boto3.client('sagemaker')\n",
    "endpoints = sm_client.list_endpoints()\n",
    "endpoint_configs = sm_client.list_endpoint_configs()"
   ]
  },
  {
   "cell_type": "code",
   "execution_count": 32,
   "id": "df465026",
   "metadata": {},
   "outputs": [
    {
     "name": "stderr",
     "output_type": "stream",
     "text": [
      "INFO:sagemaker:Creating model with name: rf-scikit-2023-04-07-18-50-26-961\n",
      "INFO:sagemaker:Creating endpoint-config with name rf-scikit-2023-04-07-18-50-26-961\n",
      "INFO:sagemaker:Creating endpoint with name rf-scikit-2023-04-07-18-50-26-961\n"
     ]
    },
    {
     "name": "stdout",
     "output_type": "stream",
     "text": [
      "----!"
     ]
    }
   ],
   "source": [
    "from sagemaker.predictor import csv_serializer\n",
    "predictor = sklearn_estimator.deploy(instance_type='ml.c5.2xlarge',initial_instance_count=1, serializer=csv_serializer)"
   ]
  },
  {
   "cell_type": "code",
   "execution_count": 33,
   "id": "9f4b532a",
   "metadata": {},
   "outputs": [
    {
     "name": "stderr",
     "output_type": "stream",
     "text": [
      "WARNING:sagemaker.deprecations:The csv_serializer has been renamed in sagemaker>=2.\n",
      "See: https://sagemaker.readthedocs.io/en/stable/v2.html for details.\n"
     ]
    },
    {
     "data": {
      "text/plain": [
       "array([1.0075, 1.9225, 1.2475, 1.1525, 1.7825, 1.8425, 1.5375, 1.745 ,\n",
       "       1.4575, 1.19  , 1.1875, 1.03  , 1.575 , 1.5   , 1.4775, 1.42  ,\n",
       "       1.1525, 1.775 , 1.5125, 1.6675, 1.7525, 1.7   , 1.6   , 1.3575,\n",
       "       1.51  , 1.2225, 1.5925, 1.    , 1.3825, 1.    , 1.0075, 1.0025,\n",
       "       1.935 , 1.4825, 1.7   , 1.965 , 1.9325, 1.025 , 1.0025, 1.48  ,\n",
       "       1.8075, 1.5775, 1.4525, 1.9625, 1.9025, 1.4875, 1.02  , 1.885 ,\n",
       "       1.075 , 1.9625, 1.1725, 1.225 , 1.125 , 1.5175, 1.545 , 1.36  ,\n",
       "       1.385 , 1.    , 1.91  , 1.0025, 1.475 , 1.6   , 1.58  , 1.9   ,\n",
       "       1.29  , 1.335 , 1.9375, 1.5625, 1.605 , 1.7925, 1.5875, 1.4675,\n",
       "       1.92  , 1.795 , 1.6575, 1.5025, 1.8475, 1.1875, 1.0375, 1.215 ,\n",
       "       1.575 , 1.5425, 1.01  , 1.6075, 1.46  , 1.    , 1.    , 1.01  ,\n",
       "       1.    , 1.525 , 1.28  , 1.0775, 1.9425, 1.08  , 1.435 , 1.3725,\n",
       "       1.2425, 1.0075, 1.9225, 1.6125, 1.6675, 1.8   , 1.5225, 1.565 ,\n",
       "       1.1675, 1.7475, 1.25  , 1.4875, 1.015 , 1.8125, 1.405 , 1.305 ,\n",
       "       1.855 , 1.075 , 1.5   , 1.0225, 1.6925, 1.9575, 1.4825, 1.13  ,\n",
       "       1.48  , 1.5325, 1.2325, 1.955 , 1.465 , 1.895 , 1.2075, 1.8875,\n",
       "       1.2625, 1.825 , 1.535 , 1.28  , 1.0075, 1.4775, 1.1425, 1.005 ,\n",
       "       1.25  , 1.5775, 1.04  , 1.8125, 1.2325, 1.12  , 1.8625, 1.3125,\n",
       "       1.2375, 1.615 , 1.47  , 1.525 , 1.9825, 1.0175, 1.8775, 1.6775,\n",
       "       1.885 , 1.0075, 1.7525, 1.055 , 1.2675, 1.4125, 1.4775, 1.555 ,\n",
       "       1.995 , 1.5   , 1.7825, 1.3275, 1.5675, 1.11  , 1.0125, 1.6775,\n",
       "       1.3175, 1.0525, 1.7425, 1.295 , 1.345 , 1.025 , 1.4025, 1.54  ,\n",
       "       1.    , 1.4725, 1.64  , 1.535 , 1.    , 1.3075, 1.415 , 1.25  ,\n",
       "       1.8325, 1.645 , 1.3175, 1.66  , 1.0575, 1.63  , 1.3   , 1.84  ,\n",
       "       1.0025, 1.7925, 1.4925, 1.4875, 1.25  , 1.535 , 1.55  , 1.61  ,\n",
       "       1.465 , 1.8125, 1.25  , 1.2475, 1.5275, 1.2475, 1.865 , 1.005 ,\n",
       "       1.0025, 1.485 , 1.99  , 1.9125, 1.4525, 1.19  , 1.305 , 1.2875,\n",
       "       1.525 , 1.7025, 1.0475, 1.2675, 1.105 , 1.5025, 1.0025, 1.925 ,\n",
       "       1.2475, 2.    , 1.3375, 1.005 , 1.4775, 1.655 , 1.865 , 1.175 ,\n",
       "       1.995 , 1.485 , 1.1875, 1.005 , 1.415 , 1.3375, 1.2775, 1.525 ,\n",
       "       1.5125, 1.9825, 1.525 , 1.005 , 1.5725, 1.6225, 1.5625, 1.8875,\n",
       "       1.7275, 1.4825, 1.135 , 1.56  , 1.08  , 1.7   , 1.25  , 1.5625,\n",
       "       1.3125, 1.5775, 1.3725, 1.33  , 1.5875, 1.3425, 1.945 , 1.96  ,\n",
       "       1.135 , 1.0025, 1.6175, 1.0775, 1.96  , 1.35  , 1.25  , 1.4975,\n",
       "       1.5925, 1.425 , 1.2075, 1.6225, 1.9825, 1.825 , 1.935 , 1.7125,\n",
       "       1.755 , 1.095 , 1.5225, 1.6175, 1.13  , 1.23  , 1.0225, 1.63  ,\n",
       "       1.97  , 1.18  , 1.8225, 1.5575, 1.02  , 1.125 , 1.4625, 1.6375,\n",
       "       1.005 , 1.78  , 1.25  , 1.57  , 1.505 , 1.705 , 1.565 , 1.48  ,\n",
       "       1.2825, 1.35  , 1.03  , 1.9775, 1.6275, 1.295 , 1.6425, 1.49  ,\n",
       "       1.5625, 1.48  , 1.0025, 1.97  , 1.01  , 1.46  , 1.955 , 1.705 ,\n",
       "       1.5925, 1.2975, 1.    , 1.025 , 1.5125, 1.025 , 1.2475, 1.125 ,\n",
       "       1.64  , 1.65  , 1.8175, 1.005 , 1.8825, 1.4825, 1.3675, 1.665 ,\n",
       "       1.38  , 1.595 , 1.52  , 1.0375, 1.4775, 1.3025, 1.6025, 1.3125,\n",
       "       1.015 , 1.275 , 1.4975, 1.395 , 1.2   , 1.23  , 1.4525, 1.67  ,\n",
       "       1.645 , 1.4875, 1.    , 1.75  , 1.2325, 1.55  , 1.1575, 1.155 ,\n",
       "       1.4925, 1.295 , 1.0075, 1.4875, 1.06  , 1.8275, 1.765 , 1.73  ,\n",
       "       1.875 , 1.0075, 1.925 , 1.805 , 1.18  , 1.64  , 1.57  , 1.045 ,\n",
       "       1.025 , 1.9725, 1.9425, 1.005 , 1.36  , 1.0175, 1.1425, 1.79  ,\n",
       "       1.065 , 1.0025, 1.6425, 1.44  , 1.2375, 1.5125, 1.25  , 1.6575,\n",
       "       1.01  , 1.0075, 1.605 , 1.9225, 1.03  , 1.205 , 1.9825, 1.22  ,\n",
       "       1.205 , 1.0775, 1.825 , 1.5875, 1.7925, 1.5025, 1.8775, 1.245 ,\n",
       "       1.7425, 1.4475, 1.085 , 1.01  , 1.215 , 1.3675, 1.1875, 1.2775,\n",
       "       1.8225, 1.02  , 1.    , 1.2225, 1.33  , 1.405 , 1.545 , 1.125 ,\n",
       "       1.71  , 1.07  , 1.    , 1.01  , 1.4975, 1.8875, 1.48  , 1.015 ,\n",
       "       1.5875, 1.6675, 1.43  , 1.5425, 1.7175, 1.83  , 1.08  , 1.07  ,\n",
       "       1.435 , 1.005 , 1.9325, 1.3825, 1.5475, 1.27  , 1.92  , 1.3825,\n",
       "       1.9375, 1.405 , 1.0075, 1.9925, 1.89  , 1.015 , 1.31  , 1.26  ,\n",
       "       1.31  , 1.425 , 1.75  , 1.72  , 1.205 , 1.    , 1.2475, 1.5775,\n",
       "       1.59  , 1.1875, 1.6425, 1.4275, 1.365 , 1.    , 1.    , 1.5425,\n",
       "       1.7075, 1.    , 1.42  , 1.84  , 1.94  , 1.01  , 1.0475, 1.2425,\n",
       "       1.015 , 1.58  , 1.965 , 1.985 , 1.0175, 1.25  , 1.5425, 1.16  ,\n",
       "       1.0075, 1.535 , 1.005 , 1.915 , 1.4875, 1.0075, 1.565 , 1.5   ,\n",
       "       1.4925, 1.5825, 1.5625, 1.25  , 1.475 , 1.2425, 1.3075, 1.    ,\n",
       "       1.105 , 1.5175, 1.5125, 1.935 , 1.605 , 1.25  , 1.14  , 1.955 ,\n",
       "       1.005 , 1.26  , 1.    , 1.    , 1.3675, 1.8025, 1.735 , 1.62  ,\n",
       "       1.0025, 1.0025, 1.67  , 1.69  , 1.    , 1.5   , 1.97  , 1.3175,\n",
       "       1.36  , 1.215 , 1.03  , 1.2325, 1.93  , 1.44  , 1.005 , 1.3825,\n",
       "       1.135 , 1.8375, 1.91  , 1.67  , 1.5575, 1.005 , 1.9625, 1.1225,\n",
       "       1.    , 1.3775, 1.38  , 1.5225, 1.02  , 1.985 , 1.775 , 1.185 ,\n",
       "       1.4575, 1.5425, 1.08  , 1.235 , 1.145 , 1.4475, 1.5875, 1.0025,\n",
       "       1.205 , 1.235 , 1.5475, 1.4625, 1.525 , 1.6725, 1.    , 1.0425,\n",
       "       1.1875, 1.49  , 1.455 , 1.8925, 1.29  , 1.2875, 1.8325, 1.1625,\n",
       "       1.4775, 1.2575, 1.2525, 1.565 , 1.42  , 1.01  , 1.635 , 1.765 ,\n",
       "       1.765 , 1.2125, 1.505 , 1.245 , 1.3425, 1.585 , 1.7525, 1.54  ,\n",
       "       1.6175, 1.46  , 1.2725, 1.005 , 1.2475, 1.23  , 1.8875, 1.215 ,\n",
       "       1.3225, 1.24  , 1.0575, 1.195 , 1.2075, 1.0425, 1.25  , 1.0325,\n",
       "       1.025 , 1.5125, 1.8625, 1.635 , 1.025 , 1.705 , 1.5275, 1.5075,\n",
       "       1.0075, 1.7   , 1.7225, 1.2525, 1.7625, 1.25  , 1.515 , 1.215 ,\n",
       "       1.915 , 1.095 , 1.8775, 1.5475, 1.53  , 1.8275, 1.9575, 1.205 ,\n",
       "       1.25  , 1.6075, 1.0025, 1.0925, 1.46  , 1.5025, 1.395 , 1.215 ,\n",
       "       1.06  , 1.0525, 1.96  , 1.2525, 1.68  , 1.81  , 1.525 , 1.21  ,\n",
       "       1.5575, 1.35  , 1.88  , 1.5875, 1.9775])"
      ]
     },
     "execution_count": 33,
     "metadata": {},
     "output_type": "execute_result"
    }
   ],
   "source": [
    "attributes = ['Day', 'Month', 'Hour', 'passenger_count', 'trip_distance', 'total_amount', 'temp', 'feelslike', 'snow', 'windspeed', 'cloudcover', 'duration']\n",
    "\n",
    "predictor.predict(testX[attributes].values)"
   ]
  },
  {
   "cell_type": "code",
   "execution_count": 54,
   "id": "1eae8e4c",
   "metadata": {},
   "outputs": [
    {
     "name": "stdout",
     "output_type": "stream",
     "text": [
      "Error: An error occurred (ModelError) when calling the InvokeEndpoint operation: Received server error (500) from primary with message \"<!DOCTYPE HTML PUBLIC \"-//W3C//DTD HTML 3.2 Final//EN\">\n",
      "<title>500 Internal Server Error</title>\n",
      "<h1>Internal Server Error</h1>\n",
      "<p>The server encountered an internal error and was unable to complete your request. Either the server is overloaded or there is an error in the application.</p>\n",
      "\". See https://eu-north-1.console.aws.amazon.com/cloudwatch/home?region=eu-north-1#logEventViewer:group=/aws/sagemaker/Endpoints/rf-scikit-2023-04-07-18-50-26-961 in account 378412049928 for more information.\n"
     ]
    }
   ],
   "source": [
    "import boto3\n",
    "import json\n",
    "\n",
    "runtime = boto3.client(\"sagemaker-runtime\")\n",
    "\n",
    "endpoint_name = \"rf-scikit-2023-04-07-18-50-26-961\"\n",
    "content_type = \"application/json\"\n",
    "payload={\n",
    "    \"input\": [1, 1, 0, 1.495619524, 2.704968711, 15.95906133, 3.5, 0.5, 0, 25.2, 37.9, 36.94705882]\n",
    "}\n",
    "\n",
    "try:\n",
    "    response = runtime.invoke_endpoint(\n",
    "        EndpointName=endpoint_name,\n",
    "        ContentType=content_type,\n",
    "        Body=json.dumps(payload)\n",
    "    )\n",
    "    print(response.predict(payload).decode('utf-8'))\n",
    "except Exception as e:\n",
    "    print(\"Error: {}\".format(str(e)))\n"
   ]
  }
 ],
 "metadata": {
  "kernelspec": {
   "display_name": "conda_python3",
   "language": "python",
   "name": "conda_python3"
  },
  "language_info": {
   "codemirror_mode": {
    "name": "ipython",
    "version": 3
   },
   "file_extension": ".py",
   "mimetype": "text/x-python",
   "name": "python",
   "nbconvert_exporter": "python",
   "pygments_lexer": "ipython3",
   "version": "3.10.8"
  }
 },
 "nbformat": 4,
 "nbformat_minor": 5
}
